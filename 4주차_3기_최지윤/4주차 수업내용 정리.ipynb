{
  "nbformat": 4,
  "nbformat_minor": 0,
  "metadata": {
    "colab": {
      "provenance": []
    },
    "kernelspec": {
      "name": "python3",
      "display_name": "Python 3"
    },
    "language_info": {
      "name": "python"
    }
  },
  "cells": [
    {
      "cell_type": "markdown",
      "source": [
        "# **퍼셉트론**"
      ],
      "metadata": {
        "id": "jH6mG7G3Avp-"
      }
    },
    {
      "cell_type": "markdown",
      "source": [
        "- 인공 신경망의 구성 요소로서 다수의 입력값을 받아 하나의 출력값(0 또는 1)을 내보내는 구조\n",
        "\n",
        "\n",
        "---\n",
        "\n",
        "\n",
        "**퍼셉트론의 학습 방법**\n",
        "\n",
        "\n",
        "1.   좌표평면에 임의의 직선 긋기\n",
        "2.   좌표평면에 데이터 하나씩 입력\n",
        "3. 입력값에 따른 모델의 예측값, 정답 비교해 틀린 경우 직선 다시 그음\n",
        "4. 모든 학습용 데이터에 대해 2,3과정 반복\n",
        "\n",
        "---\n",
        "**퍼셉트론의 한계**\n",
        "- 데이터가 선형적으로 구분 가능해야만 문제 해결 가능\n",
        "\n",
        "\n"
      ],
      "metadata": {
        "id": "ZGMNWbIlkPYk"
      }
    },
    {
      "cell_type": "markdown",
      "source": [
        "# ⛄⛄⛄⛄⛄"
      ],
      "metadata": {
        "id": "jFJMk6aJnLI4"
      }
    },
    {
      "cell_type": "markdown",
      "source": [
        "# **다층 퍼셉트론**\n",
        "\n",
        "- 입력층과 출력층 사이에 1개 이상의 은닉층이 있는 경우 다층 퍼셉트론이라고 부름.\n",
        "- 2개 이상의 은닉층을 가진 다층 퍼셉트론은 심층신경망이라고 함.\n",
        "\n",
        "\n",
        "---\n",
        "\n",
        "\n",
        "- 은닉층은 머신러닝에 나온 그 은닉층\n",
        "- 은닉층이 많아지면 정확도가 오를 확률이 높아지지만 그렇다고 무조건 정확도가 향상하는 건 아님"
      ],
      "metadata": {
        "id": "w46agWz9lWA4"
      }
    },
    {
      "cell_type": "markdown",
      "source": [
        "# ⛄⛄⛄⛄⛄"
      ],
      "metadata": {
        "id": "xVPZSxNcndy7"
      }
    },
    {
      "cell_type": "markdown",
      "source": [
        "# **활성화 함수**"
      ],
      "metadata": {
        "id": "LSaTJtT5l6sW"
      }
    },
    {
      "cell_type": "markdown",
      "source": [
        "- 퍼셉트론에서 입력값의 총합을 출력할지 말지 결정하고, 출력한다면 어떤 값으로 변환하여 출력할지 결정하는 함수\n",
        "- 함수는 데이터 분리에만 관심있고 잘 분리했는지에는 관심 없음.\n",
        "\n",
        "\n",
        "\n",
        "**1.   계단 함수** (한계때문에 잘 안씀)\n",
        "\n",
        "퍼셉트론 내 입력값의 총합이 0보다 작을 경우 -1 출력, 0보다 클 경우 1 출력\n",
        "\n",
        "**2.   시그모이드 함수**\n",
        "\n",
        "값이 작아질수록 0, 커질수록 1에 수렴 (출력되는 값의 범위는 0과 1 사이)\n",
        "\n",
        "**2-1. 문제점**\n",
        "\n",
        "-경사하강법 수행시 범위가 너무 좁아 0에 수렴하는 기울기는 소실할 수 있는 문제가 생김"
      ],
      "metadata": {
        "id": "QkQTE4TEBsrp"
      }
    },
    {
      "cell_type": "markdown",
      "source": [
        "# ⛄⛄⛄⛄⛄"
      ],
      "metadata": {
        "id": "op8l7uZUnfVu"
      }
    },
    {
      "cell_type": "markdown",
      "source": [
        "# ***비선형 함수를 사용하는 이유***\n",
        "- 선형함수 자체가 심층 신경망에 큰 도움이 안 돼서"
      ],
      "metadata": {
        "id": "nT38e0fbnhMq"
      }
    },
    {
      "cell_type": "markdown",
      "source": [
        "# ⛄⛄⛄⛄⛄"
      ],
      "metadata": {
        "id": "r70uk1uKnuCa"
      }
    },
    {
      "cell_type": "markdown",
      "source": [
        "# **순전파**\n",
        "\n",
        "- 신경망에서 입력데이터가 네트워크의 각 층을 순차적으로 통과해 최종출력을 생성하는 과정\n",
        "\n",
        "**과정**\n",
        "\n",
        "\n",
        "1.   첫 번째 계층 > 가중합 사용\n",
        "2.   가중합 완료시 > 활성화 함수(시그모이드) 적용\n",
        "3. 시그모이드 결과값은 출력층 시그모이드 함수의 입력값이 됨.\n",
        "4. 3)의 값이 출력층의 시그모이드 함수를 통과한 결과가 해당 인공신경망의 최종 출력값\n",
        "\n",
        "\n",
        "---\n",
        "오차 계산하기 위한 손실함수로는 **평균 제곱 오차(MSE)사용**\n"
      ],
      "metadata": {
        "id": "4PePhc2VnsHs"
      }
    },
    {
      "cell_type": "markdown",
      "source": [
        "순전파 : 입력 > 은닉 > 출력"
      ],
      "metadata": {
        "id": "FseDPhbCC9bV"
      }
    },
    {
      "cell_type": "markdown",
      "source": [
        "12p 빨간색은 가중치\n",
        "h1, h2는\n",
        "오차를 줄이기 위해 역전파\n"
      ],
      "metadata": {
        "id": "vJihf-1ZDMsG"
      }
    },
    {
      "cell_type": "markdown",
      "source": [
        "# ⛄⛄⛄⛄⛄"
      ],
      "metadata": {
        "id": "R_EpRS4EofUA"
      }
    },
    {
      "cell_type": "markdown",
      "source": [
        "# **역전파**\n",
        "- 예측값과 실제값의 차이를 줄이기 위한 과정\n",
        "- 역행하는 이유는 오차를 기반으로 가중치(W,b) 값들을 업데이트 하기 위함\n",
        "\n",
        "\n",
        "---\n",
        "- 가중치 업데이트 > 오차함수를 가중치로 미분, 오차가 가중치에 따라 얼마나 민감하게 변하는지 측정"
      ],
      "metadata": {
        "id": "09dC2mEqELej"
      }
    },
    {
      "cell_type": "markdown",
      "source": [
        "연쇄법칙을 사용해서 역전\n",
        "\n",
        "W5+ 는 새롭게 업데이트 된 거."
      ],
      "metadata": {
        "id": "Jeu1nugpEVG-"
      }
    },
    {
      "cell_type": "markdown",
      "source": [
        "오차는 한번만 줄이는 게 아니라 여러번 할 수 있음!"
      ],
      "metadata": {
        "id": "AjNHg-fFGfvp"
      }
    },
    {
      "cell_type": "markdown",
      "source": [
        "# ⛄⛄⛄⛄⛄"
      ],
      "metadata": {
        "id": "j4cCX9B_pKLx"
      }
    }
  ]
}