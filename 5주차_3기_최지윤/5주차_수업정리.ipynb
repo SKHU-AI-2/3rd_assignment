{
  "nbformat": 4,
  "nbformat_minor": 0,
  "metadata": {
    "colab": {
      "provenance": [],
      "gpuType": "T4"
    },
    "kernelspec": {
      "name": "python3",
      "display_name": "Python 3"
    },
    "language_info": {
      "name": "python"
    },
    "accelerator": "GPU"
  },
  "cells": [
    {
      "cell_type": "markdown",
      "source": [
        "# **Gradient Vanishing**\n",
        "\n",
        "- 최적의 W값 찾기 위해 순전파, 역전파 과정 반복.\n",
        "- 시그모이드 함수 성질 때문에 계산 과정 반복하면 점점 0에 가까워지는 값 출력\n",
        "- 0 범위 제외하고는 결국 0에 수렴"
      ],
      "metadata": {
        "id": "I5KrRGEfFuRa"
      }
    },
    {
      "cell_type": "markdown",
      "source": [
        "# **Optimization Momentum**\n",
        "\n",
        "- 좀 더 세밀한 조정 가능\n",
        "- Momentum의 개선책\n",
        "\n",
        "\n",
        "---\n",
        "**Optimization: Adagrad**\n",
        "- 고정된 학습률 아닌 바뀌는 학습률\n",
        "- 점점 가중치 줄어듦\n",
        "- 오래 학습할수록 기울기는 0에 수렴\n",
        "\n",
        "\n",
        "---\n",
        " **Optimization: RMSProp**\n",
        " - 현재 기울기에 더 큰 가중치 부여\n",
        " - 학습률 너무 빠르게 감소하지 않도록 작동\n",
        " - Adagrad의 개선책\n",
        "\n",
        "\n",
        "---\n",
        "**Optimization: Adam**\n",
        "- 각 단계마다 학습률 조정 빡세게\n",
        "= 딥러닝에서 많이 활용\n",
        "\n",
        "\n",
        "\n"
      ],
      "metadata": {
        "id": "u1hxvTbz6gJi"
      }
    },
    {
      "cell_type": "markdown",
      "source": [
        "**CNN 이미지셋 가져다가 노는거?**\n",
        "\n"
      ],
      "metadata": {
        "id": "3Iemif19Gdav"
      }
    },
    {
      "cell_type": "markdown",
      "source": [
        "14p - 연산은 1*2, 2*0,3*1 ... 각 칸에 맞는 것끼리 연산"
      ],
      "metadata": {
        "id": "yP7rkPkYG8hi"
      }
    },
    {
      "cell_type": "markdown",
      "source": [
        "zero padding\n",
        "- 기존 이미지는 흰색부분, padding 부분은 0"
      ],
      "metadata": {
        "id": "ViKv-rxxHMAh"
      }
    },
    {
      "cell_type": "markdown",
      "source": [
        "16p - padding 아니라 pooling"
      ],
      "metadata": {
        "id": "HUPsuNCRHfk7"
      }
    },
    {
      "cell_type": "markdown",
      "source": [
        "**dropout**\n",
        "- 임의로 어떤 계층 떼고 학습 > 과적합 방지"
      ],
      "metadata": {
        "id": "Ie807gLmHtUa"
      }
    },
    {
      "cell_type": "markdown",
      "source": [
        "- 계층 더 쌓는 게 과제\n",
        "-\n",
        "-\n",
        "ㅡmodel.add() 하고 나오는거 써보면서 정확도 올려보기\n",
        "- 정확도 0.65이상\n",
        "- test 정확도 65%이상 확보\n",
        "- 실행시간은 10분 이하"
      ],
      "metadata": {
        "id": "Uh0AsrCpKBFy"
      }
    }
  ]
}