{
  "nbformat": 4,
  "nbformat_minor": 0,
  "metadata": {
    "colab": {
      "provenance": [],
      "gpuType": "T4"
    },
    "kernelspec": {
      "name": "python3",
      "display_name": "Python 3"
    },
    "language_info": {
      "name": "python"
    },
    "accelerator": "GPU"
  },
  "cells": [
    {
      "cell_type": "markdown",
      "source": [
        "### colab에 옮겨서 실행해보자~\n",
        "#### 사유: pdf 저장이 편함, mediapipe 설치가 안됨 이슈..."
      ],
      "metadata": {
        "id": "U15dwCh-USnq"
      }
    },
    {
      "cell_type": "code",
      "source": [
        "!pip install mediapipe"
      ],
      "metadata": {
        "colab": {
          "base_uri": "https://localhost:8080/"
        },
        "id": "iUEAm92EU2zR",
        "outputId": "cb03b7d4-6d28-4a1c-9653-490f1fbd454d"
      },
      "execution_count": 1,
      "outputs": [
        {
          "output_type": "stream",
          "name": "stdout",
          "text": [
            "Collecting mediapipe\n",
            "  Downloading mediapipe-0.10.20-cp310-cp310-manylinux_2_28_x86_64.whl.metadata (9.7 kB)\n",
            "Requirement already satisfied: absl-py in /usr/local/lib/python3.10/dist-packages (from mediapipe) (1.4.0)\n",
            "Requirement already satisfied: attrs>=19.1.0 in /usr/local/lib/python3.10/dist-packages (from mediapipe) (24.3.0)\n",
            "Requirement already satisfied: flatbuffers>=2.0 in /usr/local/lib/python3.10/dist-packages (from mediapipe) (24.3.25)\n",
            "Requirement already satisfied: jax in /usr/local/lib/python3.10/dist-packages (from mediapipe) (0.4.33)\n",
            "Requirement already satisfied: jaxlib in /usr/local/lib/python3.10/dist-packages (from mediapipe) (0.4.33)\n",
            "Requirement already satisfied: matplotlib in /usr/local/lib/python3.10/dist-packages (from mediapipe) (3.8.0)\n",
            "Requirement already satisfied: numpy<2 in /usr/local/lib/python3.10/dist-packages (from mediapipe) (1.26.4)\n",
            "Requirement already satisfied: opencv-contrib-python in /usr/local/lib/python3.10/dist-packages (from mediapipe) (4.10.0.84)\n",
            "Requirement already satisfied: protobuf<5,>=4.25.3 in /usr/local/lib/python3.10/dist-packages (from mediapipe) (4.25.5)\n",
            "Collecting sounddevice>=0.4.4 (from mediapipe)\n",
            "  Downloading sounddevice-0.5.1-py3-none-any.whl.metadata (1.4 kB)\n",
            "Requirement already satisfied: sentencepiece in /usr/local/lib/python3.10/dist-packages (from mediapipe) (0.2.0)\n",
            "Requirement already satisfied: CFFI>=1.0 in /usr/local/lib/python3.10/dist-packages (from sounddevice>=0.4.4->mediapipe) (1.17.1)\n",
            "Requirement already satisfied: ml-dtypes>=0.2.0 in /usr/local/lib/python3.10/dist-packages (from jax->mediapipe) (0.4.1)\n",
            "Requirement already satisfied: opt-einsum in /usr/local/lib/python3.10/dist-packages (from jax->mediapipe) (3.4.0)\n",
            "Requirement already satisfied: scipy>=1.10 in /usr/local/lib/python3.10/dist-packages (from jax->mediapipe) (1.13.1)\n",
            "Requirement already satisfied: contourpy>=1.0.1 in /usr/local/lib/python3.10/dist-packages (from matplotlib->mediapipe) (1.3.1)\n",
            "Requirement already satisfied: cycler>=0.10 in /usr/local/lib/python3.10/dist-packages (from matplotlib->mediapipe) (0.12.1)\n",
            "Requirement already satisfied: fonttools>=4.22.0 in /usr/local/lib/python3.10/dist-packages (from matplotlib->mediapipe) (4.55.3)\n",
            "Requirement already satisfied: kiwisolver>=1.0.1 in /usr/local/lib/python3.10/dist-packages (from matplotlib->mediapipe) (1.4.7)\n",
            "Requirement already satisfied: packaging>=20.0 in /usr/local/lib/python3.10/dist-packages (from matplotlib->mediapipe) (24.2)\n",
            "Requirement already satisfied: pillow>=6.2.0 in /usr/local/lib/python3.10/dist-packages (from matplotlib->mediapipe) (11.0.0)\n",
            "Requirement already satisfied: pyparsing>=2.3.1 in /usr/local/lib/python3.10/dist-packages (from matplotlib->mediapipe) (3.2.0)\n",
            "Requirement already satisfied: python-dateutil>=2.7 in /usr/local/lib/python3.10/dist-packages (from matplotlib->mediapipe) (2.8.2)\n",
            "Requirement already satisfied: pycparser in /usr/local/lib/python3.10/dist-packages (from CFFI>=1.0->sounddevice>=0.4.4->mediapipe) (2.22)\n",
            "Requirement already satisfied: six>=1.5 in /usr/local/lib/python3.10/dist-packages (from python-dateutil>=2.7->matplotlib->mediapipe) (1.17.0)\n",
            "Downloading mediapipe-0.10.20-cp310-cp310-manylinux_2_28_x86_64.whl (35.6 MB)\n",
            "\u001b[2K   \u001b[90m━━━━━━━━━━━━━━━━━━━━━━━━━━━━━━━━━━━━━━━━\u001b[0m \u001b[32m35.6/35.6 MB\u001b[0m \u001b[31m47.4 MB/s\u001b[0m eta \u001b[36m0:00:00\u001b[0m\n",
            "\u001b[?25hDownloading sounddevice-0.5.1-py3-none-any.whl (32 kB)\n",
            "Installing collected packages: sounddevice, mediapipe\n",
            "Successfully installed mediapipe-0.10.20 sounddevice-0.5.1\n"
          ]
        }
      ]
    },
    {
      "cell_type": "code",
      "source": [
        "import cv2\n",
        "import mediapipe as mp\n",
        "import os\n",
        "import csv\n",
        "# numpy version 1.24.3"
      ],
      "metadata": {
        "id": "Jk2ojvhHUfAC"
      },
      "execution_count": 2,
      "outputs": []
    },
    {
      "cell_type": "markdown",
      "source": [
        "앗싸 mediapipe 구간 성공"
      ],
      "metadata": {
        "id": "EhJkOujIU9Ic"
      }
    },
    {
      "cell_type": "markdown",
      "source": [
        "### 발레와 요가 구분하기"
      ],
      "metadata": {
        "id": "d40YSIb63wW0"
      }
    },
    {
      "cell_type": "code",
      "source": [
        "# ballet\n",
        "image_folder = '/content/drive/MyDrive/Colab Notebooks/인명학/data/ballet/'\n",
        "csv_file = 'first_ballet.csv'"
      ],
      "metadata": {
        "id": "XRrFSkblX0MA"
      },
      "execution_count": 25,
      "outputs": []
    },
    {
      "cell_type": "code",
      "source": [
        "# yoga\n",
        "image_folder = '/content/drive/MyDrive/Colab Notebooks/인명학/data/yoga'\n",
        "csv_file = 'first_yoga.csv'"
      ],
      "metadata": {
        "id": "Bdb_r-p1Xx06"
      },
      "execution_count": 27,
      "outputs": []
    },
    {
      "cell_type": "code",
      "execution_count": 28,
      "metadata": {
        "id": "w6ITay_nURdG"
      },
      "outputs": [],
      "source": [
        "mp_pose = mp.solutions.pose\n",
        "pose = mp_pose.Pose(static_image_mode=True)  # True == 이미지 모드, False == 비디오 모드\n",
        "# 이미지로 진행할 예정이기 때문에 True 그대로\n",
        "\n",
        "\n",
        "with open(csv_file, mode='w', newline='') as file:\n",
        "    writer = csv.writer(file)\n",
        "    writer.writerow([\n",
        "        'Image',\n",
        "        'left wrist X', 'left wrist Y',\n",
        "        'left ankle X', 'left ankle Y',\n",
        "        'right wrist X', 'right wrist Y',\n",
        "        'right ankle X', 'right ankle Y',\n",
        "        'hip X', 'hip Y',\n",
        "        'Label'\n",
        "    ]) # 손목 발목 골반?\n",
        "\n",
        "\n",
        "for img_name in os.listdir(image_folder):\n",
        "    img_path = os.path.join(image_folder, img_name)\n",
        "    image = cv2.imread(img_path)\n",
        "    if image is None:\n",
        "        continue\n",
        "\n",
        "    height, width, _ = image.shape\n",
        "\n",
        "\n",
        "    image_rgb = cv2.cvtColor(image, cv2.COLOR_BGR2RGB)\n",
        "    result = pose.process(image_rgb)\n",
        "\n",
        "\n",
        "    if result.pose_landmarks:\n",
        "        left_wrist = result.pose_landmarks.landmark[mp_pose.PoseLandmark.LEFT_WRIST]\n",
        "        left_ankle = result.pose_landmarks.landmark[mp_pose.PoseLandmark.LEFT_ANKLE]\n",
        "        right_wrist = result.pose_landmarks.landmark[mp_pose.PoseLandmark.RIGHT_WRIST]\n",
        "        right_ankle = result.pose_landmarks.landmark[mp_pose.PoseLandmark.RIGHT_ANKLE]\n",
        "        left_hip = result.pose_landmarks.landmark[mp_pose.PoseLandmark.LEFT_HIP]\n",
        "        right_hip = result.pose_landmarks.landmark[mp_pose.PoseLandmark.RIGHT_HIP]\n",
        "        # 어깨, 손목 외 무릎 추가할 시:\n",
        "        # left_KNEE = result.pose_landmarks.landmark[mp_pose.PoseLandmark.LEFT_KNEE]\n",
        "\n",
        "\n",
        "        # 절대 좌표\n",
        "        left_wrist_x = int(left_wrist.x * width)\n",
        "        left_wrist_y = int(left_wrist.y * height)\n",
        "        left_ankle_x = int(left_ankle.x * width)\n",
        "        left_ankle_y = int(left_ankle.y * height)\n",
        "        right_wrist_x = int(right_wrist.x * width)\n",
        "        right_wrist_y = int(right_wrist.y * height)\n",
        "        right_ankle_x = int(right_ankle.x * width)\n",
        "        right_ankle_y = int(right_ankle.y * height)\n",
        "        left_hip_x = int(left_hip.x * width)\n",
        "        left_hip_y = int(left_hip.y * height)\n",
        "        right_hip_x = int(right_hip.x * width)\n",
        "        right_hip_y = int(right_hip.y * height)\n",
        "\n",
        "        # CSV\n",
        "        with open(csv_file, mode='a', newline='') as file:\n",
        "            writer = csv.writer(file)\n",
        "            writer.writerow([\n",
        "                img_name,\n",
        "                left_wrist_x, left_wrist_y,\n",
        "                left_ankle_x, left_ankle_y,\n",
        "                right_wrist_x, right_wrist_y,\n",
        "                right_ankle_x, right_ankle_y,\n",
        "                left_hip_x, left_hip_y,\n",
        "                right_hip_x, right_hip_y,\n",
        "                # 'ballet'\n",
        "                'yoga'\n",
        "            ])"
      ]
    },
    {
      "cell_type": "markdown",
      "source": [
        "### 머신러닝 분류기 사용"
      ],
      "metadata": {
        "id": "2k6lkYafw4NB"
      }
    },
    {
      "cell_type": "code",
      "source": [
        "import pandas as pd\n",
        "from sklearn.model_selection import train_test_split\n",
        "from sklearn.ensemble import RandomForestClassifier\n",
        "from sklearn.metrics import accuracy_score\n",
        "\n",
        "ballet_data = pd.read_csv('first_ballet.csv')\n",
        "yoga_data = pd.read_csv('first_yoga.csv')\n",
        "\n",
        "all_data = pd.concat([ballet_data, yoga_data], ignore_index=True)\n",
        "shuffled_data = all_data.sample(frac=1, random_state=42).reset_index(drop=True)\n",
        "\n",
        "X = shuffled_data.drop(columns=['Image', 'Label'])\n",
        "y = shuffled_data['Label']\n",
        "\n",
        "X_train, X_test, y_train, y_test = train_test_split(X, y, test_size=0.2, random_state=42)\n",
        "\n",
        "\n",
        "classifier = RandomForestClassifier(n_estimators=100, random_state=42)\n",
        "classifier.fit(X_train, y_train)\n",
        "\n",
        "y_pred = classifier.predict(X_test)\n",
        "\n",
        "accuracy = accuracy_score(y_test, y_pred)\n",
        "print(f\"Accuracy: {accuracy}\")"
      ],
      "metadata": {
        "id": "_2S6qHQEY74b",
        "colab": {
          "base_uri": "https://localhost:8080/"
        },
        "outputId": "7ed9c82f-6fc8-478d-a5ec-e7dd9981c8fe"
      },
      "execution_count": 29,
      "outputs": [
        {
          "output_type": "stream",
          "name": "stdout",
          "text": [
            "Accuracy: 0.75\n"
          ]
        }
      ]
    }
  ]
}